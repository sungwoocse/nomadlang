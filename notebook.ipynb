{
 "cells": [
  {
   "cell_type": "code",
   "execution_count": 5,
   "metadata": {},
   "outputs": [
    {
     "name": "stdout",
     "output_type": "stream",
     "text": [
      "[youtube] Extracting URL: https://www.youtube.com/watch?v=K3xJ7GQuHpw\n",
      "[youtube] K3xJ7GQuHpw: Downloading webpage\n",
      "[youtube] K3xJ7GQuHpw: Downloading ios player API JSON\n",
      "[youtube] K3xJ7GQuHpw: Downloading web creator player API JSON\n",
      "[youtube] K3xJ7GQuHpw: Downloading player 37b24ccb\n",
      "[youtube] K3xJ7GQuHpw: Downloading m3u8 information\n",
      "[info] K3xJ7GQuHpw: Downloading 1 format(s): 616+140\n",
      "[hlsnative] Downloading m3u8 manifest\n",
      "[hlsnative] Total fragments: 306\n",
      "[download] Destination: c:\\Users\\dioxin\\Desktop\\course\\FULLSTACK-GPT\\1.f616.mp4\n",
      "[download] 100% of  117.79MiB in 00:01:11 at 1.64MiB/s                   \n",
      "[download] Destination: c:\\Users\\dioxin\\Desktop\\course\\FULLSTACK-GPT\\1.f140.m4a\n",
      "[download] 100% of   27.25MiB in 00:00:04 at 6.04MiB/s     \n",
      "[Merger] Merging formats into \"c:\\Users\\dioxin\\Desktop\\course\\FULLSTACK-GPT\\1.mp4\"\n",
      "Deleting original file c:\\Users\\dioxin\\Desktop\\course\\FULLSTACK-GPT\\1.f616.mp4 (pass -k to keep)\n",
      "Deleting original file c:\\Users\\dioxin\\Desktop\\course\\FULLSTACK-GPT\\1.f140.m4a (pass -k to keep)\n",
      "\n",
      "성공적으로 다운로드 완료: c:\\Users\\dioxin\\Desktop\\course\\FULLSTACK-GPT\\1.mp4\n",
      "프로그램을 종료합니다.\n"
     ]
    }
   ],
   "source": [
    "import subprocess\n",
    "\n",
    "\n",
    "def extract_audio_from_video(video_path, audio_path):\n",
    "    command = [\n",
    "        \"ffmpeg\",\n",
    "        \"-i\",\n",
    "        video_path,\n",
    "        \"-vn\",\n",
    "        audio_path,\n",
    "    ]\n",
    "    subprocess.run(command)\n",
    "\n",
    "\n",
    "extract_audio_from_video(\n",
    "    \"podcast.mp4\",\n",
    ")"
   ]
  }
 ],
 "metadata": {
  "kernelspec": {
   "display_name": "nomadlang",
   "language": "python",
   "name": "python3"
  },
  "language_info": {
   "codemirror_mode": {
    "name": "ipython",
    "version": 3
   },
   "file_extension": ".py",
   "mimetype": "text/x-python",
   "name": "python",
   "nbconvert_exporter": "python",
   "pygments_lexer": "ipython3",
   "version": "3.11.6"
  }
 },
 "nbformat": 4,
 "nbformat_minor": 2
}
